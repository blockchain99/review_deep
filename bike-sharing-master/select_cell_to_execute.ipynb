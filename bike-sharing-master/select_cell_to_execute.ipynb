{
 "cells": [
  {
   "cell_type": "code",
   "execution_count": null,
   "metadata": {
    "collapsed": true
   },
   "outputs": [],
   "source": [
    "class MyExecutePreprocessor(nbconvert.preprocessors.ExecutePreprocessor):\n",
    "\n",
    "    def preprocess_cell(self, cell, resources, cell_index):\n",
    "        \"\"\"\n",
    "        Executes a single code cell. See base.py for details.\n",
    "        To execute all cells see :meth:`preprocess`.\n",
    "\n",
    "        Checks cell.metadata for 'execute' key. If set, and maps to False, \n",
    "          the cell is not executed.\n",
    "        \"\"\"\n",
    "\n",
    "        if not cell.metadata.get('execute', True):\n",
    "            # Don't execute this cell in output\n",
    "            return cell, resources\n",
    "\n",
    "        return super().preprocess_cell(cell, resources, cell_index)\n"
   ]
  }
 ],
 "metadata": {
  "kernelspec": {
   "display_name": "Python 2",
   "language": "python",
   "name": "python2"
  },
  "language_info": {
   "codemirror_mode": {
    "name": "ipython",
    "version": 2
   },
   "file_extension": ".py",
   "mimetype": "text/x-python",
   "name": "python",
   "nbconvert_exporter": "python",
   "pygments_lexer": "ipython2",
   "version": "2.7.12"
  }
 },
 "nbformat": 4,
 "nbformat_minor": 1
}
